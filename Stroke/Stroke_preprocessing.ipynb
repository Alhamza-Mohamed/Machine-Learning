{
 "cells": [
  {
   "cell_type": "code",
   "execution_count": null,
   "id": "b1b61610",
   "metadata": {},
   "outputs": [],
   "source": [
    "# 📦 Data manipulation\n",
    "import pandas as pd\n",
    "import numpy as np \n",
    "\n",
    "# 📊 Visualization\n",
    "import matplotlib.pyplot as plt\n",
    "import seaborn as sns\n"
   ]
  },
  {
   "cell_type": "code",
   "execution_count": null,
   "id": "82f5786c",
   "metadata": {},
   "outputs": [],
   "source": [
    "# ⚙️ Preprocessing\n",
    "from sklearn.preprocessing import StandardScaler, label_binarize"
   ]
  },
  {
   "cell_type": "code",
   "execution_count": null,
   "id": "03383a25",
   "metadata": {},
   "outputs": [],
   "source": [
    "# 🧪 Model selection & evaluation\n",
    "from sklearn.model_selection import train_test_split, GridSearchCV\n",
    "from sklearn.metrics import (\n",
    "    accuracy_score, \n",
    "    precision_score, \n",
    "    recall_score, \n",
    "    classification_report,\n",
    "    confusion_matrix,\n",
    "    roc_curve, \n",
    "    auc\n",
    ")"
   ]
  },
  {
   "cell_type": "code",
   "execution_count": null,
   "id": "c1259672",
   "metadata": {},
   "outputs": [],
   "source": [
    "# 🧠 Machine learning models\n",
    "from sklearn.ensemble import RandomForestClassifier\n",
    "from sklearn.svm import SVC\n",
    "from sklearn.multiclass import OneVsRestClassifier"
   ]
  },
  {
   "cell_type": "code",
   "execution_count": null,
   "id": "ff4d74fc",
   "metadata": {},
   "outputs": [],
   "source": [
    "# ⚖️ Handling imbalance\n",
    "from imblearn.over_sampling import SMOTE\n",
    "from collections import Counter"
   ]
  },
  {
   "cell_type": "code",
   "execution_count": null,
   "id": "4702691c",
   "metadata": {},
   "outputs": [],
   "source": []
  }
 ],
 "metadata": {
  "kernelspec": {
   "display_name": "Python 3",
   "language": "python",
   "name": "python3"
  },
  "language_info": {
   "name": "python",
   "version": "3.11.9"
  }
 },
 "nbformat": 4,
 "nbformat_minor": 5
}
